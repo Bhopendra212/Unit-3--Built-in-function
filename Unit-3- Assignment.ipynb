{
 "cells": [
  {
   "cell_type": "code",
   "execution_count": 3,
   "id": "8204c3b8-c506-450b-af35-20241023d876",
   "metadata": {},
   "outputs": [
    {
     "name": "stdout",
     "output_type": "stream",
     "text": [
      "The average length is: 4.2732\n",
      "The round off average length is: 4.27\n"
     ]
    }
   ],
   "source": [
    "\"\"\"Question 1:-In an experiment scientist was measuring the length of a line, the following are the lengths in mm- 2.398,5.639,7.452,0.123,5.754. Find the average length and  also roundoff upto 2 digit  \"\"\"\n",
    "\n",
    "length=2.398+5.639+7.452+0.123+5.754\n",
    "average_length= length/5\n",
    "print('The average length is:',average_length)\n",
    "a=round(average_length,2)\n",
    "print('The round off average length is:',a)"
   ]
  },
  {
   "cell_type": "code",
   "execution_count": 6,
   "id": "b27edd2b-d035-42b5-9d1a-cba7a21b89eb",
   "metadata": {},
   "outputs": [
    {
     "name": "stdout",
     "output_type": "stream",
     "text": [
      "average quotient is: 506.3333333333333\n",
      "The round off value of the average quotient is: 506\n",
      "average remainder is: 32.83260000000155\n",
      "The round off value of the average remainder is: 33\n"
     ]
    }
   ],
   "source": [
    "\"\"\"Question 2:- Rahul travelled a distance of 12567.7854 km. Divide it the cost 45,78,63 rs. find the average of quotient and remainder and find out the round off value of quotient and remainder \"\"\"\n",
    "\n",
    "a=divmod(12567.7854,45)\n",
    "b=divmod(12567.7854,78)\n",
    "c=divmod(12567.7854,63)\n",
    "\n",
    "avg_quotient= a[0]+b[0]+c[0]/3\n",
    "\n",
    "print('average quotient is:',avg_quotient)\n",
    "print('The round off value of the average quotient is:',round(avg_quotient))\n",
    "\n",
    "avg_remainder=a[1]+b[1]+c[1]/3\n",
    "print('average remainder is:',avg_remainder)\n",
    "print('The round off value of the average remainder is:',round(avg_remainder))"
   ]
  },
  {
   "cell_type": "code",
   "execution_count": 7,
   "id": "edfde25d-b3bd-4dc5-9257-62ca4e89ba71",
   "metadata": {},
   "outputs": [
    {
     "name": "stdout",
     "output_type": "stream",
     "text": [
      "43 49 3 48\n"
     ]
    }
   ],
   "source": [
    "\"\"\"Question 3:- 10524 raise to the power 2,3,4,5 and divide it by 71. find the remainder in each case.  \"\"\"\n",
    "\n",
    "a=pow(10524,2,71)\n",
    "b=pow(10524,3,71)\n",
    "c=pow(10524,4,71)\n",
    "d=pow(10524,5,71)\n",
    "\n",
    "print(a,b,c,d)"
   ]
  },
  {
   "cell_type": "code",
   "execution_count": 8,
   "id": "c8be44ca-8545-48c9-9840-76d2f02fcfa6",
   "metadata": {},
   "outputs": [
    {
     "name": "stdin",
     "output_type": "stream",
     "text": [
      "Enter the value of the 1st stock: 49.5\n",
      "Enter the value of the 2nd stock: 105.7\n",
      "Enter the value of the 3rd stock: 63.9\n",
      "Enter the value of the 4th stock: 202.2\n",
      "Enter the value of the 5th stock: 167.4\n"
     ]
    },
    {
     "name": "stdout",
     "output_type": "stream",
     "text": [
      "The average of 5 stocks are: 454.78\n",
      "The round off value of 5 average stocks is: 455\n"
     ]
    }
   ],
   "source": [
    "\"\"\"Question 4:- Enter the values of 5 stocks in the form of float from the user and find the average of 5 stocks and finally round off.\"\"\"\n",
    "\n",
    "a1=float(input('Enter the value of the 1st stock:'))\n",
    "a2=float(input('Enter the value of the 2nd stock:'))\n",
    "a3=float(input('Enter the value of the 3rd stock:'))\n",
    "a4=float(input('Enter the value of the 4th stock:'))\n",
    "a5=float(input('Enter the value of the 5th stock:'))\n",
    "\n",
    "Avg_stock=a1+a2+a3+a4+a5/5\n",
    "\n",
    "print('The average of 5 stocks are:',Avg_stock)\n",
    "\n",
    "round_offvalue=round(Avg_stock)\n",
    "\n",
    "print('The round off value of 5 average stocks is:',round_offvalue)\n"
   ]
  },
  {
   "cell_type": "code",
   "execution_count": 9,
   "id": "3901478e-ea46-4d0a-8f50-dcafa12d58a4",
   "metadata": {},
   "outputs": [
    {
     "name": "stdout",
     "output_type": "stream",
     "text": [
      "the maximum value: 7895\n",
      "the minimum value: -236\n",
      "the ascending order is: [-236, -96, -89, -41, -6, 0, 3, 7, 12, 52, 78, 86, 120, 412, 741, 752, 965, 1578, 2365, 7895]\n",
      "the descending order is: [7895, 2365, 1578, 965, 752, 741, 412, 120, 86, 78, 52, 12, 7, 3, 0, -6, -41, -89, -96, -236]\n"
     ]
    }
   ],
   "source": [
    "\"\"\"Question 5:- Find the minimum,maximum and finally sort in the ascending and descending order [1578,52,-6,78,965,741,2365,7895,412,-236,86,120,-96,-41,752,12,0,3,7,-89]\"\"\"\n",
    "\n",
    "abc= [1578,52,-6,78,965,741,2365,7895,412,-236,86,120,-96,-41,752,12,0,3,7,-89]\n",
    "\n",
    "print('the maximum value:',max(abc))\n",
    "\n",
    "print('the minimum value:',min(abc))\n",
    "\n",
    "print('the ascending order is:',sorted(abc))\n",
    "\n",
    "print('the descending order is:', sorted(abc,reverse=True))\n"
   ]
  },
  {
   "cell_type": "code",
   "execution_count": null,
   "id": "97689a21-1be9-4107-a527-3904c9078835",
   "metadata": {},
   "outputs": [],
   "source": []
  },
  {
   "cell_type": "code",
   "execution_count": null,
   "id": "a6bb123a-d6cf-466f-8067-bbfc73459e44",
   "metadata": {},
   "outputs": [],
   "source": []
  },
  {
   "cell_type": "code",
   "execution_count": null,
   "id": "2bf0d7f4-6356-4c2e-8f56-dce57827fe66",
   "metadata": {},
   "outputs": [],
   "source": []
  },
  {
   "cell_type": "code",
   "execution_count": null,
   "id": "75597a6f-d139-4d7f-a16f-0305e7c374f0",
   "metadata": {},
   "outputs": [],
   "source": []
  },
  {
   "cell_type": "code",
   "execution_count": null,
   "id": "84d7eb72-b991-4e64-a28e-c07309eba630",
   "metadata": {},
   "outputs": [],
   "source": []
  },
  {
   "cell_type": "code",
   "execution_count": null,
   "id": "ae6218cd-4489-422b-9e8e-f2c86c7bb63c",
   "metadata": {},
   "outputs": [],
   "source": []
  },
  {
   "cell_type": "code",
   "execution_count": null,
   "id": "88ed40a4-d09a-429f-97a5-79701db286f9",
   "metadata": {},
   "outputs": [],
   "source": []
  },
  {
   "cell_type": "code",
   "execution_count": null,
   "id": "9041c146-3a9e-4438-b1a2-ce8acdb619f5",
   "metadata": {},
   "outputs": [],
   "source": []
  },
  {
   "cell_type": "code",
   "execution_count": null,
   "id": "227a198a-bdb3-43da-adcc-f0f7f483d236",
   "metadata": {},
   "outputs": [],
   "source": []
  },
  {
   "cell_type": "code",
   "execution_count": null,
   "id": "5446bc83-b877-42b2-9db7-87abe0c93ea3",
   "metadata": {},
   "outputs": [],
   "source": []
  },
  {
   "cell_type": "code",
   "execution_count": null,
   "id": "59375784-f1a3-4b9d-8064-ffe2949ab1b7",
   "metadata": {},
   "outputs": [],
   "source": []
  }
 ],
 "metadata": {
  "kernelspec": {
   "display_name": "Python 3 (ipykernel)",
   "language": "python",
   "name": "python3"
  },
  "language_info": {
   "codemirror_mode": {
    "name": "ipython",
    "version": 3
   },
   "file_extension": ".py",
   "mimetype": "text/x-python",
   "name": "python",
   "nbconvert_exporter": "python",
   "pygments_lexer": "ipython3",
   "version": "3.11.5"
  }
 },
 "nbformat": 4,
 "nbformat_minor": 5
}
