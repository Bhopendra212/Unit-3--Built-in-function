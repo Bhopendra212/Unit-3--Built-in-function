{
 "cells": [
  {
   "cell_type": "markdown",
   "id": "74bd8772-5725-4cc4-9483-c8ed5d7acde7",
   "metadata": {},
   "source": [
    "# Round Function"
   ]
  },
  {
   "cell_type": "code",
   "execution_count": 1,
   "id": "4b4c57ff-14e1-4833-b6d1-2e31cf9cca75",
   "metadata": {},
   "outputs": [],
   "source": [
    "# round off the numbers -- 7.6 = 8"
   ]
  },
  {
   "cell_type": "code",
   "execution_count": 2,
   "id": "2a9b8839-d082-4184-ac83-9448dbd9dcee",
   "metadata": {},
   "outputs": [
    {
     "data": {
      "text/plain": [
       "4"
      ]
     },
     "execution_count": 2,
     "metadata": {},
     "output_type": "execute_result"
    }
   ],
   "source": [
    "a = 4.2456\n",
    "round(a)"
   ]
  },
  {
   "cell_type": "code",
   "execution_count": 5,
   "id": "193bbb84-4f39-40a2-9bbf-33bc982d0d5b",
   "metadata": {},
   "outputs": [
    {
     "name": "stdout",
     "output_type": "stream",
     "text": [
      "13\n"
     ]
    }
   ],
   "source": [
    "a = 12.6\n",
    "print(round(a))"
   ]
  },
  {
   "cell_type": "code",
   "execution_count": 6,
   "id": "3819895f-43d6-47ce-b14f-b0266546f31a",
   "metadata": {},
   "outputs": [
    {
     "data": {
      "text/plain": [
       "14.457"
      ]
     },
     "execution_count": 6,
     "metadata": {},
     "output_type": "execute_result"
    }
   ],
   "source": [
    "a = 14.45678\n",
    "round(a,3)\n"
   ]
  },
  {
   "cell_type": "code",
   "execution_count": 7,
   "id": "acf46b85-cc4a-4756-9f08-cc9dfa03f3ab",
   "metadata": {},
   "outputs": [
    {
     "data": {
      "text/plain": [
       "14.4568"
      ]
     },
     "execution_count": 7,
     "metadata": {},
     "output_type": "execute_result"
    }
   ],
   "source": [
    "a = 14.45678\n",
    "round(a,4)"
   ]
  },
  {
   "cell_type": "code",
   "execution_count": 8,
   "id": "79563908-11a4-4eba-838e-d91a51539b7b",
   "metadata": {},
   "outputs": [
    {
     "name": "stdout",
     "output_type": "stream",
     "text": [
      "18.87465\n"
     ]
    }
   ],
   "source": [
    "print(round(18.874653553553,5))"
   ]
  },
  {
   "cell_type": "code",
   "execution_count": 10,
   "id": "5d65e6f6-74af-4c03-b29f-8245bddbc8b3",
   "metadata": {},
   "outputs": [
    {
     "name": "stdout",
     "output_type": "stream",
     "text": [
      "689\n"
     ]
    }
   ],
   "source": [
    "\"\"\"Mohan buys 3 tablets- cost of tablet 1 is rs 45.67, cost of tablet 2 is rs 68.967, cost of tablet 3 is rs 574.784. Find out how much price mohan will pay and round off it.\"\"\"\n",
    "\n",
    "tablet_one= 45.67\n",
    "tablet_two= 68.967\n",
    "tablet_three= 574.784\n",
    "\n",
    "print(round(tablet_one+tablet_two+tablet_three))\n"
   ]
  },
  {
   "cell_type": "code",
   "execution_count": 12,
   "id": "5529339b-70f5-470c-9936-99877a924219",
   "metadata": {},
   "outputs": [
    {
     "data": {
      "text/plain": [
       "5.988"
      ]
     },
     "execution_count": 12,
     "metadata": {},
     "output_type": "execute_result"
    }
   ],
   "source": [
    "round(5.987665,3)                    #need 3 places after decimal"
   ]
  },
  {
   "cell_type": "code",
   "execution_count": 14,
   "id": "352a6920-4553-4cd0-a870-69ebd6f0b86c",
   "metadata": {},
   "outputs": [
    {
     "name": "stdout",
     "output_type": "stream",
     "text": [
      "56.76652\n"
     ]
    }
   ],
   "source": [
    "print(round(56.7665243324,5))        # need 5 places after decimal"
   ]
  },
  {
   "cell_type": "markdown",
   "id": "14c0d261-171e-462b-bad2-7fd69f1db696",
   "metadata": {},
   "source": [
    "# Div-Mod Function"
   ]
  },
  {
   "cell_type": "code",
   "execution_count": 15,
   "id": "c64daf05-4075-44b4-a020-b7bf8601ddaf",
   "metadata": {},
   "outputs": [],
   "source": [
    "# It takes two numbers and return a pair of numbers consisting of their quotient and remainder "
   ]
  },
  {
   "cell_type": "code",
   "execution_count": 16,
   "id": "515fc5b9-62fd-4d9e-a883-4eb2fad26586",
   "metadata": {},
   "outputs": [
    {
     "name": "stdout",
     "output_type": "stream",
     "text": [
      "(3, 4)\n"
     ]
    }
   ],
   "source": [
    "a = divmod(25,7)\n",
    "print(a)"
   ]
  },
  {
   "cell_type": "code",
   "execution_count": 17,
   "id": "687f0e62-00bf-4274-880a-135a323d88d6",
   "metadata": {},
   "outputs": [
    {
     "data": {
      "text/plain": [
       "tuple"
      ]
     },
     "execution_count": 17,
     "metadata": {},
     "output_type": "execute_result"
    }
   ],
   "source": [
    "type(a)"
   ]
  },
  {
   "cell_type": "code",
   "execution_count": 18,
   "id": "5e27ad11-521c-4697-a246-bc68f3c6eb8f",
   "metadata": {},
   "outputs": [
    {
     "name": "stdout",
     "output_type": "stream",
     "text": [
      "3\n"
     ]
    }
   ],
   "source": [
    "a[0]\n",
    "print(a[0])"
   ]
  },
  {
   "cell_type": "code",
   "execution_count": 19,
   "id": "6449469f-9173-4dc4-ab3f-a69b79d34049",
   "metadata": {},
   "outputs": [
    {
     "name": "stdout",
     "output_type": "stream",
     "text": [
      "(248850, 2)\n"
     ]
    }
   ],
   "source": [
    "a=divmod(1244252,5)\n",
    "print(a)"
   ]
  },
  {
   "cell_type": "code",
   "execution_count": 20,
   "id": "147d49e5-96d6-4ed1-aa75-22f6c81bdecf",
   "metadata": {},
   "outputs": [
    {
     "name": "stdout",
     "output_type": "stream",
     "text": [
      "(45, 36)\n"
     ]
    }
   ],
   "source": [
    "print(divmod(3456,76))"
   ]
  },
  {
   "cell_type": "code",
   "execution_count": 22,
   "id": "b841649e-b455-40d7-b82b-4025cd47fdfc",
   "metadata": {},
   "outputs": [
    {
     "name": "stdout",
     "output_type": "stream",
     "text": [
      "(12.0, 4.788999999999987) (11.0, 5.788999999999987) (10.0, 8.788999999999987) (9.0, 13.788999999999987)\n"
     ]
    }
   ],
   "source": [
    "\"\"\"divide the number 148.789 by 12,13,14,15 separately, and their quotient and reminder add \"\"\"\n",
    "\n",
    "a = divmod(148.789,12)\n",
    "b = divmod(148.789, 13)\n",
    "c= divmod(148.789,14)\n",
    "d= divmod(148.789,15)\n",
    "print(a,b,c,d)"
   ]
  },
  {
   "cell_type": "code",
   "execution_count": 23,
   "id": "c8451525-6c84-4185-8051-4bbc981a1e82",
   "metadata": {},
   "outputs": [
    {
     "name": "stdout",
     "output_type": "stream",
     "text": [
      "sum of quotient are: 42.0\n",
      "sum of remainder are: 33.15599999999995\n"
     ]
    }
   ],
   "source": [
    "q=a[0]+b[0]+c[0]+d[0]\n",
    "\n",
    "print('sum of quotient are:',q)\n",
    "\n",
    "r=a[1]+b[1]+c[1]+d[1]\n",
    "\n",
    "print('sum of remainder are:',r)"
   ]
  },
  {
   "cell_type": "code",
   "execution_count": 24,
   "id": "e5f82680-8b6b-4185-91db-f765aeb5507a",
   "metadata": {},
   "outputs": [
    {
     "data": {
      "text/plain": [
       "33"
      ]
     },
     "execution_count": 24,
     "metadata": {},
     "output_type": "execute_result"
    }
   ],
   "source": [
    "round(r)"
   ]
  },
  {
   "cell_type": "markdown",
   "id": "bcf15914-d013-40d0-bcb5-942cad499173",
   "metadata": {},
   "source": [
    "# isinstance Function"
   ]
  },
  {
   "cell_type": "code",
   "execution_count": 25,
   "id": "7da24e21-4424-4642-b1b9-8aa11f71a038",
   "metadata": {},
   "outputs": [],
   "source": [
    "# isinstance(object,type)"
   ]
  },
  {
   "cell_type": "code",
   "execution_count": 26,
   "id": "802a1423-edc3-4f4b-8f40-483be8ed4b72",
   "metadata": {},
   "outputs": [
    {
     "data": {
      "text/plain": [
       "True"
      ]
     },
     "execution_count": 26,
     "metadata": {},
     "output_type": "execute_result"
    }
   ],
   "source": [
    "isinstance(3,int)"
   ]
  },
  {
   "cell_type": "code",
   "execution_count": 28,
   "id": "22137412-9b89-48d5-b78b-a3d41062de8c",
   "metadata": {},
   "outputs": [
    {
     "data": {
      "text/plain": [
       "True"
      ]
     },
     "execution_count": 28,
     "metadata": {},
     "output_type": "execute_result"
    }
   ],
   "source": [
    "isinstance(1.3,float)"
   ]
  },
  {
   "cell_type": "code",
   "execution_count": 32,
   "id": "f101cda1-0eb4-486c-9f2d-8fca061142c4",
   "metadata": {},
   "outputs": [
    {
     "data": {
      "text/plain": [
       "True"
      ]
     },
     "execution_count": 32,
     "metadata": {},
     "output_type": "execute_result"
    }
   ],
   "source": [
    "isinstance(5,(int,float,bool,))                      # we can pass the tuple in data type "
   ]
  },
  {
   "cell_type": "code",
   "execution_count": 37,
   "id": "0734d250-70c9-4bcb-a7b7-add3c35772b7",
   "metadata": {},
   "outputs": [
    {
     "name": "stdout",
     "output_type": "stream",
     "text": [
      "True\n"
     ]
    }
   ],
   "source": [
    "print(isinstance('Python is amazing',(int,float,str)))"
   ]
  },
  {
   "cell_type": "code",
   "execution_count": 38,
   "id": "b1688e55-8728-4f08-8b19-af6de41f9c43",
   "metadata": {},
   "outputs": [
    {
     "data": {
      "text/plain": [
       "True"
      ]
     },
     "execution_count": 38,
     "metadata": {},
     "output_type": "execute_result"
    }
   ],
   "source": [
    "isinstance(2+3j,(int,float,complex))"
   ]
  },
  {
   "cell_type": "code",
   "execution_count": 39,
   "id": "05149f95-4d81-4096-8277-5eef5fdebd6f",
   "metadata": {},
   "outputs": [
    {
     "data": {
      "text/plain": [
       "False"
      ]
     },
     "execution_count": 39,
     "metadata": {},
     "output_type": "execute_result"
    }
   ],
   "source": [
    "isinstance(3.45,(int,complex))"
   ]
  },
  {
   "cell_type": "code",
   "execution_count": 40,
   "id": "298f9a94-ace8-4dfd-9047-0757e5aa8cd9",
   "metadata": {},
   "outputs": [
    {
     "data": {
      "text/plain": [
       "True"
      ]
     },
     "execution_count": 40,
     "metadata": {},
     "output_type": "execute_result"
    }
   ],
   "source": [
    "isinstance(3.78,(float,int,complex))"
   ]
  },
  {
   "cell_type": "markdown",
   "id": "294e26ba-5678-482d-bf77-acdfe43e7d47",
   "metadata": {},
   "source": [
    "# Pow Function"
   ]
  },
  {
   "cell_type": "code",
   "execution_count": 41,
   "id": "c396de1c-a758-4fb9-ae2c-2edb685cacdd",
   "metadata": {},
   "outputs": [
    {
     "data": {
      "text/plain": [
       "16"
      ]
     },
     "execution_count": 41,
     "metadata": {},
     "output_type": "execute_result"
    }
   ],
   "source": [
    "pow(2,4)"
   ]
  },
  {
   "cell_type": "code",
   "execution_count": 42,
   "id": "68629f42-b690-4b7a-bab2-cbbcffcd4ab2",
   "metadata": {},
   "outputs": [
    {
     "data": {
      "text/plain": [
       "16"
      ]
     },
     "execution_count": 42,
     "metadata": {},
     "output_type": "execute_result"
    }
   ],
   "source": [
    "2**4"
   ]
  },
  {
   "cell_type": "code",
   "execution_count": 43,
   "id": "d58bac5d-5e6c-4948-983f-a3d303cab5e8",
   "metadata": {},
   "outputs": [
    {
     "data": {
      "text/plain": [
       "892433931724899592133340503925107044376202040970794580884598711678709679913526717581436810411421589606106863357126712799072265625"
      ]
     },
     "execution_count": 43,
     "metadata": {},
     "output_type": "execute_result"
    }
   ],
   "source": [
    "pow(45,78)"
   ]
  },
  {
   "cell_type": "code",
   "execution_count": 44,
   "id": "174129e0-d512-4bca-a949-74741e83da02",
   "metadata": {},
   "outputs": [
    {
     "data": {
      "text/plain": [
       "79.62623999999998"
      ]
     },
     "execution_count": 44,
     "metadata": {},
     "output_type": "execute_result"
    }
   ],
   "source": [
    "pow(2.4,5)"
   ]
  },
  {
   "cell_type": "code",
   "execution_count": 45,
   "id": "a908ab46-f98b-49fe-83cf-9644257e3da5",
   "metadata": {},
   "outputs": [
    {
     "data": {
      "text/plain": [
       "2"
      ]
     },
     "execution_count": 45,
     "metadata": {},
     "output_type": "execute_result"
    }
   ],
   "source": [
    "pow(2,4,7)"
   ]
  },
  {
   "cell_type": "code",
   "execution_count": 46,
   "id": "deb99841-94db-4e1d-9afc-8e3f4efbaaa7",
   "metadata": {},
   "outputs": [
    {
     "data": {
      "text/plain": [
       "1"
      ]
     },
     "execution_count": 46,
     "metadata": {},
     "output_type": "execute_result"
    }
   ],
   "source": [
    "pow(3,4,5)"
   ]
  },
  {
   "cell_type": "code",
   "execution_count": 47,
   "id": "8212c31a-7ddd-43b2-9735-f48a20d029fc",
   "metadata": {},
   "outputs": [
    {
     "name": "stdout",
     "output_type": "stream",
     "text": [
      "2 6 4 5\n"
     ]
    }
   ],
   "source": [
    "\"\"\" 24 raise to the power 2,3,4,5 and divide it by 7 find the remainder in each case\"\"\"\n",
    "\n",
    "a= pow(24,2,7)\n",
    "b=pow(24,3,7)\n",
    "c=pow(24,4,7)\n",
    "d=pow(24,5,7)\n",
    "\n",
    "print(a,b,c,d)"
   ]
  },
  {
   "cell_type": "code",
   "execution_count": 48,
   "id": "1e054e68-2d26-437d-ac72-70826a05cb78",
   "metadata": {},
   "outputs": [
    {
     "name": "stdout",
     "output_type": "stream",
     "text": [
      "47\n"
     ]
    }
   ],
   "source": [
    "\"\"\" 63 raise to the power 45 and divide by 52 find the remainder\"\"\"\n",
    "\n",
    "a=pow(63,45,52)\n",
    "print(a)"
   ]
  },
  {
   "cell_type": "code",
   "execution_count": null,
   "id": "6946044f-1937-418e-b854-978e986c0b23",
   "metadata": {},
   "outputs": [],
   "source": []
  },
  {
   "cell_type": "code",
   "execution_count": null,
   "id": "c38ee075-e5c3-4724-9499-8ac6324c81e7",
   "metadata": {},
   "outputs": [],
   "source": []
  },
  {
   "cell_type": "code",
   "execution_count": null,
   "id": "b2477c4b-62e6-4240-adbf-b68fa7f577fa",
   "metadata": {},
   "outputs": [],
   "source": []
  }
 ],
 "metadata": {
  "kernelspec": {
   "display_name": "Python 3 (ipykernel)",
   "language": "python",
   "name": "python3"
  },
  "language_info": {
   "codemirror_mode": {
    "name": "ipython",
    "version": 3
   },
   "file_extension": ".py",
   "mimetype": "text/x-python",
   "name": "python",
   "nbconvert_exporter": "python",
   "pygments_lexer": "ipython3",
   "version": "3.11.5"
  }
 },
 "nbformat": 4,
 "nbformat_minor": 5
}
