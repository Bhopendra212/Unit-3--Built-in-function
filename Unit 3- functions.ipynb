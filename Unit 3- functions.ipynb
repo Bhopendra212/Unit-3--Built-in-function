{
 "cells": [
  {
   "cell_type": "markdown",
   "id": "f778dbb0-4447-4a80-82c9-5e935b08263d",
   "metadata": {},
   "source": [
    "# Input function, int function and float function"
   ]
  },
  {
   "cell_type": "code",
   "execution_count": 1,
   "id": "650f2ed2-2a2e-4334-9b74-e75feabf67be",
   "metadata": {},
   "outputs": [
    {
     "name": "stdin",
     "output_type": "stream",
     "text": [
      "enter the Value 23\n"
     ]
    }
   ],
   "source": [
    "x=input('enter the Value')"
   ]
  },
  {
   "cell_type": "code",
   "execution_count": 2,
   "id": "e4c91085-5b85-4943-b76d-233f12def6bd",
   "metadata": {},
   "outputs": [
    {
     "name": "stdout",
     "output_type": "stream",
     "text": [
      "23\n"
     ]
    }
   ],
   "source": [
    "print(x)"
   ]
  },
  {
   "cell_type": "code",
   "execution_count": 3,
   "id": "c5e45d36-70ef-4548-8f1c-5a9992be39fb",
   "metadata": {},
   "outputs": [
    {
     "data": {
      "text/plain": [
       "str"
      ]
     },
     "execution_count": 3,
     "metadata": {},
     "output_type": "execute_result"
    }
   ],
   "source": [
    "type(x)"
   ]
  },
  {
   "cell_type": "code",
   "execution_count": 4,
   "id": "0fee0039-f3f5-41b5-85b7-22b49061c6a3",
   "metadata": {},
   "outputs": [
    {
     "name": "stdin",
     "output_type": "stream",
     "text": [
      "Enter the value 45\n"
     ]
    }
   ],
   "source": [
    "y=int(input('Enter the value'))"
   ]
  },
  {
   "cell_type": "code",
   "execution_count": 5,
   "id": "6865c0b3-fedc-46a8-a424-203bd1ee1f2d",
   "metadata": {},
   "outputs": [
    {
     "name": "stdout",
     "output_type": "stream",
     "text": [
      "45\n"
     ]
    }
   ],
   "source": [
    "print(y)"
   ]
  },
  {
   "cell_type": "code",
   "execution_count": 6,
   "id": "d0298a24-aeab-41c8-80db-4fb1d1ec2198",
   "metadata": {},
   "outputs": [
    {
     "data": {
      "text/plain": [
       "int"
      ]
     },
     "execution_count": 6,
     "metadata": {},
     "output_type": "execute_result"
    }
   ],
   "source": [
    "type(y)"
   ]
  },
  {
   "cell_type": "code",
   "execution_count": 7,
   "id": "1f7d485c-3878-4505-8d72-66c31dc2c330",
   "metadata": {},
   "outputs": [
    {
     "name": "stdout",
     "output_type": "stream",
     "text": [
      "23\n"
     ]
    }
   ],
   "source": [
    "print(y-22)"
   ]
  },
  {
   "cell_type": "code",
   "execution_count": 8,
   "id": "7a8d2239-fe4f-46ee-a9c9-1f86e2898a1f",
   "metadata": {},
   "outputs": [
    {
     "name": "stdin",
     "output_type": "stream",
     "text": [
      "hello user please enter your value 55\n"
     ]
    }
   ],
   "source": [
    "a=input('hello user please enter your value')"
   ]
  },
  {
   "cell_type": "code",
   "execution_count": 9,
   "id": "3a7695d1-7af5-4c8f-9c2b-188c41cdd31b",
   "metadata": {},
   "outputs": [
    {
     "data": {
      "text/plain": [
       "str"
      ]
     },
     "execution_count": 9,
     "metadata": {},
     "output_type": "execute_result"
    }
   ],
   "source": [
    "type(a)"
   ]
  },
  {
   "cell_type": "code",
   "execution_count": 10,
   "id": "1da07dbb-730f-4669-a627-81f06d82c90a",
   "metadata": {},
   "outputs": [],
   "source": [
    "a=float(a)"
   ]
  },
  {
   "cell_type": "code",
   "execution_count": 11,
   "id": "71c3655d-af6a-4926-881f-2757033e4ae0",
   "metadata": {},
   "outputs": [
    {
     "name": "stdout",
     "output_type": "stream",
     "text": [
      "55.0\n"
     ]
    }
   ],
   "source": [
    "print(a)"
   ]
  },
  {
   "cell_type": "code",
   "execution_count": 12,
   "id": "e8f77fb1-9053-4333-a440-7644dbda7e54",
   "metadata": {},
   "outputs": [
    {
     "data": {
      "text/plain": [
       "float"
      ]
     },
     "execution_count": 12,
     "metadata": {},
     "output_type": "execute_result"
    }
   ],
   "source": [
    "type(a)"
   ]
  },
  {
   "cell_type": "code",
   "execution_count": 13,
   "id": "690c61a5-f44c-4dfb-8fce-1f51823364b1",
   "metadata": {},
   "outputs": [
    {
     "name": "stdout",
     "output_type": "stream",
     "text": [
      "53.8\n"
     ]
    }
   ],
   "source": [
    "print(a-1.2)"
   ]
  },
  {
   "cell_type": "code",
   "execution_count": 14,
   "id": "700076f6-f77b-48d2-bc8e-2d6309170951",
   "metadata": {},
   "outputs": [
    {
     "name": "stdin",
     "output_type": "stream",
     "text": [
      "Enter the marks of maths 80\n",
      "Enter the marks of english 75\n",
      "Enter the marks of hindi 70\n",
      "Enter the marks of science 65\n",
      "Enter the marks of social 77\n"
     ]
    },
    {
     "name": "stdout",
     "output_type": "stream",
     "text": [
      "The percentage of student is: 73.4\n"
     ]
    }
   ],
   "source": [
    "\"\"\" Lets make a result of the student, ask the user to enter the marks of eng, hindi, maths,science and social, and find out the percentage of the student\"\"\"\n",
    "\n",
    "a=int(input('Enter the marks of maths'))\n",
    "b=int(input('Enter the marks of english'))\n",
    "c=int(input('Enter the marks of hindi'))\n",
    "d=int(input('Enter the marks of science'))\n",
    "e=int(input('Enter the marks of social'))\n",
    "\n",
    "per=(a+b+c+d+e)/500*100\n",
    "\n",
    "print('The percentage of student is:',per)\n"
   ]
  },
  {
   "cell_type": "markdown",
   "id": "08e8e91d-4e05-48ff-af95-f8373050f8b5",
   "metadata": {},
   "source": [
    "# len function"
   ]
  },
  {
   "cell_type": "code",
   "execution_count": 15,
   "id": "3d2ee4cc-a424-49dd-9614-221c0f466060",
   "metadata": {},
   "outputs": [
    {
     "name": "stdout",
     "output_type": "stream",
     "text": [
      " Iam learning Python\n"
     ]
    }
   ],
   "source": [
    "a=\" Iam learning Python\"\n",
    "print(a)"
   ]
  },
  {
   "cell_type": "code",
   "execution_count": 16,
   "id": "85003ed9-1c5a-4350-8a06-f81d48aed181",
   "metadata": {},
   "outputs": [
    {
     "data": {
      "text/plain": [
       "str"
      ]
     },
     "execution_count": 16,
     "metadata": {},
     "output_type": "execute_result"
    }
   ],
   "source": [
    "type(a)"
   ]
  },
  {
   "cell_type": "code",
   "execution_count": 17,
   "id": "05e06367-3c7a-4876-967e-3f7e2f734ffd",
   "metadata": {},
   "outputs": [
    {
     "name": "stdout",
     "output_type": "stream",
     "text": [
      "20\n"
     ]
    }
   ],
   "source": [
    "print(len(a))"
   ]
  },
  {
   "cell_type": "code",
   "execution_count": 18,
   "id": "ca0131fa-f30d-44e5-95a5-6bbbc22b333c",
   "metadata": {},
   "outputs": [
    {
     "name": "stdout",
     "output_type": "stream",
     "text": [
      "python is a high level language and it is easy to learn\n"
     ]
    }
   ],
   "source": [
    "x='python is a high level language'\n",
    "y=' and it is easy to learn'\n",
    "print(x+y)"
   ]
  },
  {
   "cell_type": "code",
   "execution_count": 19,
   "id": "c2432e93-671c-40c4-b178-913a93b2077e",
   "metadata": {},
   "outputs": [
    {
     "name": "stdout",
     "output_type": "stream",
     "text": [
      "55\n"
     ]
    }
   ],
   "source": [
    "print(len(x+y))"
   ]
  },
  {
   "cell_type": "code",
   "execution_count": 20,
   "id": "979412ce-aa90-4c3a-818e-656b4055a0d0",
   "metadata": {},
   "outputs": [
    {
     "data": {
      "text/plain": [
       "9"
      ]
     },
     "execution_count": 20,
     "metadata": {},
     "output_type": "execute_result"
    }
   ],
   "source": [
    "L = [12,13,14,15,16,17,18,19,20]\n",
    "len(L)"
   ]
  },
  {
   "cell_type": "code",
   "execution_count": 21,
   "id": "7b463ac4-eafe-4abc-9e81-d5e5384777f7",
   "metadata": {},
   "outputs": [
    {
     "data": {
      "text/plain": [
       "5"
      ]
     },
     "execution_count": 21,
     "metadata": {},
     "output_type": "execute_result"
    }
   ],
   "source": [
    "A = '12345'\n",
    "len(A)"
   ]
  },
  {
   "cell_type": "code",
   "execution_count": 22,
   "id": "4720e8c7-bad2-4a44-9583-2402c7606ea6",
   "metadata": {},
   "outputs": [
    {
     "data": {
      "text/plain": [
       "str"
      ]
     },
     "execution_count": 22,
     "metadata": {},
     "output_type": "execute_result"
    }
   ],
   "source": [
    "type(A)"
   ]
  },
  {
   "cell_type": "markdown",
   "id": "b4d40707-88b6-4665-9f0f-9da11e72a106",
   "metadata": {},
   "source": [
    "# min and max Function"
   ]
  },
  {
   "cell_type": "code",
   "execution_count": 23,
   "id": "9f814a6a-f6eb-4f5b-b24d-16a7c536687a",
   "metadata": {},
   "outputs": [
    {
     "name": "stdout",
     "output_type": "stream",
     "text": [
      "15\n"
     ]
    }
   ],
   "source": [
    "abc = 10,15,-5,8,2\n",
    "print(max(abc))"
   ]
  },
  {
   "cell_type": "code",
   "execution_count": 24,
   "id": "afb52337-0ef8-4a73-be14-e291f3c13d81",
   "metadata": {},
   "outputs": [
    {
     "name": "stdout",
     "output_type": "stream",
     "text": [
      "-5\n"
     ]
    }
   ],
   "source": [
    "print(min(abc))"
   ]
  },
  {
   "cell_type": "code",
   "execution_count": 25,
   "id": "22efa851-916d-4c31-bf19-4a56ce3fc7ea",
   "metadata": {},
   "outputs": [
    {
     "data": {
      "text/plain": [
       "-78"
      ]
     },
     "execution_count": 25,
     "metadata": {},
     "output_type": "execute_result"
    }
   ],
   "source": [
    "L = [12,41,-6,-78,85,45]\n",
    "min(L)"
   ]
  },
  {
   "cell_type": "code",
   "execution_count": 26,
   "id": "54894b53-5ddb-49ba-a451-9e8a2d734ef9",
   "metadata": {},
   "outputs": [
    {
     "data": {
      "text/plain": [
       "85"
      ]
     },
     "execution_count": 26,
     "metadata": {},
     "output_type": "execute_result"
    }
   ],
   "source": [
    "max(L)"
   ]
  },
  {
   "cell_type": "code",
   "execution_count": 27,
   "id": "f746b029-1886-4bf1-97ef-b2b017a6ef5f",
   "metadata": {},
   "outputs": [
    {
     "name": "stdin",
     "output_type": "stream",
     "text": [
      "Enter the 1st value 12\n",
      "Enter the 2nd value 45\n",
      "Enter the 3rd value -76\n",
      "Enter the 4th value 55\n",
      "Enter the 5th value 34\n"
     ]
    }
   ],
   "source": [
    "\"\"\" ask the user to enter 5 values and find the minimum and maximum values  \"\"\"\n",
    "\n",
    "a = input('Enter the 1st value')\n",
    "b = input('Enter the 2nd value')\n",
    "c = input('Enter the 3rd value')\n",
    "d = input('Enter the 4th value')\n",
    "e = input('Enter the 5th value')\n"
   ]
  },
  {
   "cell_type": "code",
   "execution_count": 28,
   "id": "a50bfd30-fc0b-4e54-87cc-334599ee487f",
   "metadata": {},
   "outputs": [
    {
     "name": "stdout",
     "output_type": "stream",
     "text": [
      "Values given by user 12 45 -76 55 34\n",
      "The minimum value is: -76\n",
      "The maximum value is: 55\n"
     ]
    }
   ],
   "source": [
    "a=int(a)\n",
    "b=int(b)\n",
    "c=int(c)\n",
    "d=int(d)\n",
    "e=int(e)\n",
    "\n",
    "print('Values given by user',a,b,c,d,e)\n",
    "print('The minimum value is:',min(a,b,c,d,e))\n",
    "print('The maximum value is:',max(a,b,c,d,e))"
   ]
  },
  {
   "cell_type": "markdown",
   "id": "fefab9a7-0cf2-4de2-9732-e158a6d8afeb",
   "metadata": {},
   "source": [
    "# Sorted function"
   ]
  },
  {
   "cell_type": "code",
   "execution_count": 29,
   "id": "2a294cdc-cb1d-45ec-96c7-9cfaa58a20e3",
   "metadata": {},
   "outputs": [
    {
     "data": {
      "text/plain": [
       "[-8, -6, -4, -2, 1, 9, 12, 22, 23, 43, 43, 56, 62]"
      ]
     },
     "execution_count": 29,
     "metadata": {},
     "output_type": "execute_result"
    }
   ],
   "source": [
    "L = [12,43,-4,56,62,22,43,-6,1,23,-8,9,-2]\n",
    "sorted(L)"
   ]
  },
  {
   "cell_type": "code",
   "execution_count": 30,
   "id": "d4da60d9-23f4-4b19-8328-9f2f23ba6ac6",
   "metadata": {},
   "outputs": [
    {
     "data": {
      "text/plain": [
       "[62, 56, 43, 43, 23, 22, 12, 9, 1, -2, -4, -6, -8]"
      ]
     },
     "execution_count": 30,
     "metadata": {},
     "output_type": "execute_result"
    }
   ],
   "source": [
    "sorted(L,reverse=True)"
   ]
  },
  {
   "cell_type": "code",
   "execution_count": 31,
   "id": "c59b45db-6855-4da3-989d-26e6ffb8dc70",
   "metadata": {},
   "outputs": [
    {
     "name": "stdin",
     "output_type": "stream",
     "text": [
      "Enter 1st value 122\n",
      "Enter 2nd value 23\n",
      "Enter 3rd value -54\n",
      "Enter 4th value -8\n",
      "Enter 5th value 11\n"
     ]
    }
   ],
   "source": [
    "\"\"\"Take 5 values from user and arrange them in ascending and descending order \"\"\"\n",
    "\n",
    "a = input('Enter 1st value')\n",
    "b = input('Enter 2nd value')\n",
    "c = input('Enter 3rd value')\n",
    "d = input('Enter 4th value')\n",
    "e = input('Enter 5th value')\n",
    "\n"
   ]
  },
  {
   "cell_type": "code",
   "execution_count": 33,
   "id": "f4e98aee-33ad-4fd6-a4dc-bb5e4d031f90",
   "metadata": {},
   "outputs": [
    {
     "name": "stdout",
     "output_type": "stream",
     "text": [
      "[-54, -8, 11, 23, 122]\n"
     ]
    }
   ],
   "source": [
    "a = int(a)\n",
    "b = int(b)\n",
    "c = int(c)\n",
    "d = int(d)\n",
    "e = int(e)\n",
    "\n",
    "x=(a,b,c,d,e)\n",
    "\n",
    "print(sorted(x))"
   ]
  },
  {
   "cell_type": "code",
   "execution_count": 34,
   "id": "98fb82f0-35c9-49df-945e-234fb7d90a0b",
   "metadata": {},
   "outputs": [
    {
     "name": "stdout",
     "output_type": "stream",
     "text": [
      "[122, 23, 11, -8, -54]\n"
     ]
    }
   ],
   "source": [
    "print(sorted(x,reverse=True))"
   ]
  },
  {
   "cell_type": "markdown",
   "id": "c7d6766b-9e93-4ada-bee2-2ce6f2d698fc",
   "metadata": {},
   "source": [
    "# help Function"
   ]
  },
  {
   "cell_type": "code",
   "execution_count": 35,
   "id": "cf1977ed-ac52-444f-8795-bbf9847d6948",
   "metadata": {},
   "outputs": [
    {
     "data": {
      "text/plain": [
       "\u001b[1;31mSignature:\u001b[0m \u001b[0mpow\u001b[0m\u001b[1;33m(\u001b[0m\u001b[0mbase\u001b[0m\u001b[1;33m,\u001b[0m \u001b[0mexp\u001b[0m\u001b[1;33m,\u001b[0m \u001b[0mmod\u001b[0m\u001b[1;33m=\u001b[0m\u001b[1;32mNone\u001b[0m\u001b[1;33m)\u001b[0m\u001b[1;33m\u001b[0m\u001b[1;33m\u001b[0m\u001b[0m\n",
       "\u001b[1;31mDocstring:\u001b[0m\n",
       "Equivalent to base**exp with 2 arguments or base**exp % mod with 3 arguments\n",
       "\n",
       "Some types, such as ints, are able to use a more efficient algorithm when\n",
       "invoked using the three argument form.\n",
       "\u001b[1;31mType:\u001b[0m      builtin_function_or_method"
      ]
     },
     "metadata": {},
     "output_type": "display_data"
    }
   ],
   "source": [
    "pow?"
   ]
  },
  {
   "cell_type": "code",
   "execution_count": 36,
   "id": "91b4604a-f2ad-4d2d-b8f9-361f3dd1d561",
   "metadata": {},
   "outputs": [
    {
     "data": {
      "text/plain": [
       "\u001b[1;31mSignature:\u001b[0m \u001b[0mlen\u001b[0m\u001b[1;33m(\u001b[0m\u001b[0mobj\u001b[0m\u001b[1;33m,\u001b[0m \u001b[1;33m/\u001b[0m\u001b[1;33m)\u001b[0m\u001b[1;33m\u001b[0m\u001b[1;33m\u001b[0m\u001b[0m\n",
       "\u001b[1;31mDocstring:\u001b[0m Return the number of items in a container.\n",
       "\u001b[1;31mType:\u001b[0m      builtin_function_or_method"
      ]
     },
     "metadata": {},
     "output_type": "display_data"
    }
   ],
   "source": [
    "len?"
   ]
  },
  {
   "cell_type": "code",
   "execution_count": 37,
   "id": "a16a3c5d-8c50-4035-8707-58c5ea703b94",
   "metadata": {},
   "outputs": [
    {
     "name": "stdout",
     "output_type": "stream",
     "text": [
      "Help on built-in function pow in module builtins:\n",
      "\n",
      "pow(base, exp, mod=None)\n",
      "    Equivalent to base**exp with 2 arguments or base**exp % mod with 3 arguments\n",
      "    \n",
      "    Some types, such as ints, are able to use a more efficient algorithm when\n",
      "    invoked using the three argument form.\n",
      "\n"
     ]
    }
   ],
   "source": [
    "help(pow)"
   ]
  },
  {
   "cell_type": "code",
   "execution_count": 38,
   "id": "64b4650b-1d99-46e8-8044-6d024dbb9326",
   "metadata": {},
   "outputs": [
    {
     "data": {
      "text/plain": [
       "\u001b[1;31mSignature:\u001b[0m \u001b[0mdivmod\u001b[0m\u001b[1;33m(\u001b[0m\u001b[0mx\u001b[0m\u001b[1;33m,\u001b[0m \u001b[0my\u001b[0m\u001b[1;33m,\u001b[0m \u001b[1;33m/\u001b[0m\u001b[1;33m)\u001b[0m\u001b[1;33m\u001b[0m\u001b[1;33m\u001b[0m\u001b[0m\n",
       "\u001b[1;31mDocstring:\u001b[0m Return the tuple (x//y, x%y).  Invariant: div*y + mod == x.\n",
       "\u001b[1;31mType:\u001b[0m      builtin_function_or_method"
      ]
     },
     "metadata": {},
     "output_type": "display_data"
    }
   ],
   "source": [
    "divmod?"
   ]
  },
  {
   "cell_type": "code",
   "execution_count": 39,
   "id": "ab0ba1c5-4816-42f2-9ac9-bbc35950e3f1",
   "metadata": {},
   "outputs": [
    {
     "name": "stdout",
     "output_type": "stream",
     "text": [
      "Help on built-in function divmod in module builtins:\n",
      "\n",
      "divmod(x, y, /)\n",
      "    Return the tuple (x//y, x%y).  Invariant: div*y + mod == x.\n",
      "\n"
     ]
    }
   ],
   "source": [
    "help(divmod)"
   ]
  },
  {
   "cell_type": "code",
   "execution_count": 40,
   "id": "4b889f84-d909-4fc7-8821-93e213a0723a",
   "metadata": {},
   "outputs": [
    {
     "data": {
      "text/plain": [
       "\u001b[1;31mDocstring:\u001b[0m\n",
       "max(iterable, *[, default=obj, key=func]) -> value\n",
       "max(arg1, arg2, *args, *[, key=func]) -> value\n",
       "\n",
       "With a single iterable argument, return its biggest item. The\n",
       "default keyword-only argument specifies an object to return if\n",
       "the provided iterable is empty.\n",
       "With two or more arguments, return the largest argument.\n",
       "\u001b[1;31mType:\u001b[0m      builtin_function_or_method"
      ]
     },
     "metadata": {},
     "output_type": "display_data"
    }
   ],
   "source": [
    "max?"
   ]
  },
  {
   "cell_type": "code",
   "execution_count": null,
   "id": "f58b4208-f8a2-469a-92ad-77194725f46d",
   "metadata": {},
   "outputs": [],
   "source": []
  }
 ],
 "metadata": {
  "kernelspec": {
   "display_name": "Python 3 (ipykernel)",
   "language": "python",
   "name": "python3"
  },
  "language_info": {
   "codemirror_mode": {
    "name": "ipython",
    "version": 3
   },
   "file_extension": ".py",
   "mimetype": "text/x-python",
   "name": "python",
   "nbconvert_exporter": "python",
   "pygments_lexer": "ipython3",
   "version": "3.11.5"
  }
 },
 "nbformat": 4,
 "nbformat_minor": 5
}
